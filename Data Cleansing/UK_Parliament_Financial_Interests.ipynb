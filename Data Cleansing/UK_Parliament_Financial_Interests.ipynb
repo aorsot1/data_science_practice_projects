{
 "cells": [
  {
   "cell_type": "markdown",
   "id": "c8314c77-2f4c-49f0-b614-fdde643efc25",
   "metadata": {},
   "source": [
    "### Project #1: Webscrapping, Cleaning, Pre-Processing\n",
    "\n",
    "* **Origin**: [Making Noise and Hearing Things Website](https://makingnoiseandhearingthings.com/2018/04/19/datasets-for-data-cleaning-practice/)\n",
    "* **Data Source**: [Register of UK Parliament Members’ Financial Interests](https://www.parliament.uk/mps-lords-and-offices/standards-and-financial-interests/parliamentary-commissioner-for-standards/registers-of-interests/register-of-members-financial-interests/)\n",
    "\n",
    "**Excerpt**\n",
    "The main purpose of the Register is to provide information about any financial interest which a Member has, or any benefit which he or she receives, which others might reasonably consider to influence his or her actions or words as a Member of Parliament.\n",
    "\n",
    "Members must register any change to their registrable interests within 28 days. The rules are set out in detail in the Guide to the Rules relating to the Conduct of Members, as approved by the House on 17 March 2015. Interests which arose before 7 May 2015 are registered in accordance with earlier rules.\n",
    "\n",
    "The Register is maintained by the Parliamentary for Commissioner for Standards. It is updated fortnightly online when the House is sitting, and less frequently at other times. Interests remain on the Register for twelve months after they have expired.\n",
    "\n",
    "Issues: Each member’s transactions are on a separate webpage with a different text format, with contributions listed under different headings (not necessarily one per line) and in different formats. Will take quite a bit of careful\n",
    "\n",
    "**Objective**: Contribute in better governance through transparency from elected officials\n",
    "\n",
    "**Action Items**\n",
    "- Research on data dictionary and structure on the official website\n",
    "- Determine best startegy for extraction: Examine the HTML Framework\n",
    "- Determine best storage formats: Textual Entity Categorization\n",
    "- Design ETL Pipeline to obtain a final dataset ready for further analysis, visualization, or machine learning"
   ]
  },
  {
   "cell_type": "code",
   "execution_count": null,
   "id": "03845f60-66fa-4115-b35f-0d41110643ec",
   "metadata": {},
   "outputs": [],
   "source": [
    "import pandas as pd\n",
    "import numpy as np\n",
    "import re\n",
    "from bs4 import BeautifulSoup\n",
    "import requests as rqx"
   ]
  }
 ],
 "metadata": {
  "kernelspec": {
   "display_name": "Python 3 (ipykernel)",
   "language": "python",
   "name": "python3"
  },
  "language_info": {
   "codemirror_mode": {
    "name": "ipython",
    "version": 3
   },
   "file_extension": ".py",
   "mimetype": "text/x-python",
   "name": "python",
   "nbconvert_exporter": "python",
   "pygments_lexer": "ipython3",
   "version": "3.9.13"
  }
 },
 "nbformat": 4,
 "nbformat_minor": 5
}
