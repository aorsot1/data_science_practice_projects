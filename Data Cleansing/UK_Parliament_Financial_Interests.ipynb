{
 "cells": [
  {
   "cell_type": "markdown",
   "id": "c8314c77-2f4c-49f0-b614-fdde643efc25",
   "metadata": {},
   "source": [
    "### Project #1: Data Mining & Cleaning\n",
    "\n",
    "**Data Source**: [Register of UK Parliament Members’ Financial Interests](https://www.parliament.uk/mps-lords-and-offices/standards-and-financial-interests/parliamentary-commissioner-for-standards/registers-of-interests/register-of-members-financial-interests/)\n",
    "**Objective**: Contribute in better governance through transparency from elected officials\n",
    "\n",
    "**Action Items**\n",
    "- Research on data dictionary and structure on the official website\n",
    "- Determine best startegy for extraction: Examine the HTML Framework\n",
    "- Determine best storage formats: Textual Entity Categorization\n",
    "- Design ETL Pipeline to obtain a final dataset ready for further analysis, visualization, or machine learning"
   ]
  },
  {
   "cell_type": "code",
   "execution_count": null,
   "id": "03845f60-66fa-4115-b35f-0d41110643ec",
   "metadata": {},
   "outputs": [],
   "source": [
    "import pandas as pd\n",
    "import numpy as np\n",
    "import re\n",
    "from bs4 import BeautifulSoup\n",
    "import requests as rqx"
   ]
  }
 ],
 "metadata": {
  "kernelspec": {
   "display_name": "Python 3 (ipykernel)",
   "language": "python",
   "name": "python3"
  },
  "language_info": {
   "codemirror_mode": {
    "name": "ipython",
    "version": 3
   },
   "file_extension": ".py",
   "mimetype": "text/x-python",
   "name": "python",
   "nbconvert_exporter": "python",
   "pygments_lexer": "ipython3",
   "version": "3.9.13"
  }
 },
 "nbformat": 4,
 "nbformat_minor": 5
}
